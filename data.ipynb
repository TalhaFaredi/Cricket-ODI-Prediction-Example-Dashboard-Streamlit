{
 "cells": [
  {
   "cell_type": "code",
   "execution_count": 64,
   "metadata": {},
   "outputs": [],
   "source": [
    "import pandas as pd"
   ]
  },
  {
   "cell_type": "code",
   "execution_count": 65,
   "metadata": {},
   "outputs": [],
   "source": [
    "df =  pd.read_csv(\"ODI_Match_info.csv\")\n"
   ]
  },
  {
   "cell_type": "code",
   "execution_count": 66,
   "metadata": {},
   "outputs": [],
   "source": [
    "columns_to_keep = ['team1', 'team2', 'winner']\n",
    "df = df[columns_to_keep]\n"
   ]
  },
  {
   "cell_type": "code",
   "execution_count": 19,
   "metadata": {},
   "outputs": [
    {
     "data": {
      "text/plain": [
       "array(['India', 'England', 'New Zealand', 'Australia', 'Sri Lanka',\n",
       "       'South Africa', 'Bangladesh', 'Pakistan', 'Nepal', 'Afghanistan',\n",
       "       'West Indies', 'Scotland', 'United Arab Emirates', 'Oman',\n",
       "       'Netherlands', 'Zimbabwe', 'United States of America', 'Ireland',\n",
       "       'Canada', 'Namibia', 'Jersey', 'Papua New Guinea', 'Hong Kong',\n",
       "       'Kenya', 'Africa XI', 'Bermuda'], dtype=object)"
      ]
     },
     "execution_count": 19,
     "metadata": {},
     "output_type": "execute_result"
    }
   ],
   "source": [
    "df['team1'].unique()\n"
   ]
  },
  {
   "cell_type": "code",
   "execution_count": 22,
   "metadata": {},
   "outputs": [
    {
     "data": {
      "text/plain": [
       "array(['India', 'England', 'New Zealand', nan, 'South Africa',\n",
       "       'Bangladesh', 'Sri Lanka', 'Australia', 'Pakistan', 'West Indies',\n",
       "       'Afghanistan', 'Netherlands', 'United Arab Emirates', 'Scotland',\n",
       "       'Ireland', 'Nepal', 'Zimbabwe', 'Oman', 'Canada',\n",
       "       'United States of America', 'Namibia', 'Jersey',\n",
       "       'Papua New Guinea', 'Hong Kong', 'Kenya', 'Bermuda', 'Asia XI',\n",
       "       'Africa XI'], dtype=object)"
      ]
     },
     "execution_count": 22,
     "metadata": {},
     "output_type": "execute_result"
    }
   ],
   "source": [
    "df['winner'].unique()\n"
   ]
  },
  {
   "cell_type": "code",
   "execution_count": 67,
   "metadata": {},
   "outputs": [
    {
     "data": {
      "text/plain": [
       "0             India\n",
       "1           England\n",
       "2       New Zealand\n",
       "3             India\n",
       "4                29\n",
       "           ...     \n",
       "2374      Sri Lanka\n",
       "2375          India\n",
       "2376    New Zealand\n",
       "2377    New Zealand\n",
       "2378    New Zealand\n",
       "Name: winner, Length: 2379, dtype: object"
      ]
     },
     "execution_count": 67,
     "metadata": {},
     "output_type": "execute_result"
    }
   ],
   "source": [
    "df['winner'].fillna(29)"
   ]
  },
  {
   "cell_type": "code",
   "execution_count": 68,
   "metadata": {},
   "outputs": [],
   "source": [
    "# Create a dictionary that maps each team to a unique code\n",
    "teams = {\n",
    "    'India': 0,\n",
    "    'England': 1,\n",
    "    'New Zealand': 2,\n",
    "    'Australia': 3,\n",
    "    'Sri Lanka': 4,\n",
    "    'South Africa': 5,\n",
    "    'Bangladesh': 6,\n",
    "    'Pakistan': 7,\n",
    "    'Nepal': 8,\n",
    "    'Afghanistan': 9,\n",
    "    'West Indies': 10,\n",
    "    'Scotland': 11,\n",
    "    'United Arab Emirates': 12,\n",
    "    'Oman': 13,\n",
    "    'Netherlands': 14,\n",
    "    'Zimbabwe': 15,\n",
    "    'United States of America': 16,\n",
    "    'Ireland': 17,\n",
    "    'Canada': 18,\n",
    "    'Namibia': 19,\n",
    "    'Jersey': 20,\n",
    "    'Papua New Guinea': 21,\n",
    "    'Hong Kong': 22,\n",
    "    'Kenya': 23,\n",
    "    'Africa XI': 24,\n",
    "    'Bermuda': 25,\n",
    "    'Asia XI':26,\n",
    "    'ICC World XI':27,\n",
    "    'NAN':29\n",
    "\n",
    "}\n",
    "\n",
    "\n"
   ]
  },
  {
   "cell_type": "code",
   "execution_count": 69,
   "metadata": {},
   "outputs": [
    {
     "data": {
      "text/html": [
       "<div>\n",
       "<style scoped>\n",
       "    .dataframe tbody tr th:only-of-type {\n",
       "        vertical-align: middle;\n",
       "    }\n",
       "\n",
       "    .dataframe tbody tr th {\n",
       "        vertical-align: top;\n",
       "    }\n",
       "\n",
       "    .dataframe thead th {\n",
       "        text-align: right;\n",
       "    }\n",
       "</style>\n",
       "<table border=\"1\" class=\"dataframe\">\n",
       "  <thead>\n",
       "    <tr style=\"text-align: right;\">\n",
       "      <th></th>\n",
       "      <th>team1</th>\n",
       "      <th>team2</th>\n",
       "      <th>winner</th>\n",
       "    </tr>\n",
       "  </thead>\n",
       "  <tbody>\n",
       "    <tr>\n",
       "      <th>0</th>\n",
       "      <td>0</td>\n",
       "      <td>3</td>\n",
       "      <td>0.0</td>\n",
       "    </tr>\n",
       "    <tr>\n",
       "      <th>1</th>\n",
       "      <td>1</td>\n",
       "      <td>17</td>\n",
       "      <td>1.0</td>\n",
       "    </tr>\n",
       "    <tr>\n",
       "      <th>2</th>\n",
       "      <td>2</td>\n",
       "      <td>6</td>\n",
       "      <td>2.0</td>\n",
       "    </tr>\n",
       "    <tr>\n",
       "      <th>3</th>\n",
       "      <td>3</td>\n",
       "      <td>0</td>\n",
       "      <td>0.0</td>\n",
       "    </tr>\n",
       "    <tr>\n",
       "      <th>4</th>\n",
       "      <td>2</td>\n",
       "      <td>6</td>\n",
       "      <td>NaN</td>\n",
       "    </tr>\n",
       "    <tr>\n",
       "      <th>...</th>\n",
       "      <td>...</td>\n",
       "      <td>...</td>\n",
       "      <td>...</td>\n",
       "    </tr>\n",
       "    <tr>\n",
       "      <th>2374</th>\n",
       "      <td>4</td>\n",
       "      <td>3</td>\n",
       "      <td>4.0</td>\n",
       "    </tr>\n",
       "    <tr>\n",
       "      <th>2375</th>\n",
       "      <td>2</td>\n",
       "      <td>0</td>\n",
       "      <td>0.0</td>\n",
       "    </tr>\n",
       "    <tr>\n",
       "      <th>2376</th>\n",
       "      <td>0</td>\n",
       "      <td>2</td>\n",
       "      <td>2.0</td>\n",
       "    </tr>\n",
       "    <tr>\n",
       "      <th>2377</th>\n",
       "      <td>0</td>\n",
       "      <td>2</td>\n",
       "      <td>2.0</td>\n",
       "    </tr>\n",
       "    <tr>\n",
       "      <th>2378</th>\n",
       "      <td>2</td>\n",
       "      <td>0</td>\n",
       "      <td>2.0</td>\n",
       "    </tr>\n",
       "  </tbody>\n",
       "</table>\n",
       "<p>2379 rows × 3 columns</p>\n",
       "</div>"
      ],
      "text/plain": [
       "      team1  team2  winner\n",
       "0         0      3     0.0\n",
       "1         1     17     1.0\n",
       "2         2      6     2.0\n",
       "3         3      0     0.0\n",
       "4         2      6     NaN\n",
       "...     ...    ...     ...\n",
       "2374      4      3     4.0\n",
       "2375      2      0     0.0\n",
       "2376      0      2     2.0\n",
       "2377      0      2     2.0\n",
       "2378      2      0     2.0\n",
       "\n",
       "[2379 rows x 3 columns]"
      ]
     },
     "execution_count": 69,
     "metadata": {},
     "output_type": "execute_result"
    }
   ],
   "source": [
    "df['team1'] = df['team1'].map(teams)\n",
    "df['team2'] = df['team2'].map(teams)\n",
    "df['winner'] = df['winner'].map(teams)\n",
    "\n",
    "df"
   ]
  },
  {
   "cell_type": "code",
   "execution_count": 77,
   "metadata": {},
   "outputs": [],
   "source": [
    "df['winner']=df['winner'].fillna(29)\n"
   ]
  },
  {
   "cell_type": "code",
   "execution_count": 78,
   "metadata": {},
   "outputs": [
    {
     "data": {
      "text/plain": [
       "0        0.0\n",
       "1        1.0\n",
       "2        2.0\n",
       "3        0.0\n",
       "4       29.0\n",
       "        ... \n",
       "2374     4.0\n",
       "2375     0.0\n",
       "2376     2.0\n",
       "2377     2.0\n",
       "2378     2.0\n",
       "Name: winner, Length: 2379, dtype: float64"
      ]
     },
     "execution_count": 78,
     "metadata": {},
     "output_type": "execute_result"
    }
   ],
   "source": [
    "df['winner']"
   ]
  },
  {
   "cell_type": "code",
   "execution_count": 79,
   "metadata": {},
   "outputs": [],
   "source": [
    "x = df.iloc[:,:2]\n",
    "y=df.iloc[:,2]"
   ]
  },
  {
   "cell_type": "code",
   "execution_count": 48,
   "metadata": {},
   "outputs": [
    {
     "data": {
      "text/plain": [
       "0      NaN\n",
       "1      NaN\n",
       "2      NaN\n",
       "3      NaN\n",
       "4      NaN\n",
       "        ..\n",
       "2374   NaN\n",
       "2375   NaN\n",
       "2376   NaN\n",
       "2377   NaN\n",
       "2378   NaN\n",
       "Name: winner, Length: 2379, dtype: float64"
      ]
     },
     "execution_count": 48,
     "metadata": {},
     "output_type": "execute_result"
    }
   ],
   "source": [
    "y"
   ]
  },
  {
   "cell_type": "code",
   "execution_count": 80,
   "metadata": {},
   "outputs": [],
   "source": [
    "from sklearn.linear_model import LogisticRegression\n",
    "model = LogisticRegression()"
   ]
  },
  {
   "cell_type": "code",
   "execution_count": 93,
   "metadata": {},
   "outputs": [],
   "source": [
    "from sklearn.model_selection import train_test_split\n",
    "x_train ,x_test ,y_train,y_test = train_test_split(x,y,test_size=0.50,random_state=45)"
   ]
  },
  {
   "cell_type": "code",
   "execution_count": 89,
   "metadata": {},
   "outputs": [
    {
     "data": {
      "text/html": [
       "<div>\n",
       "<style scoped>\n",
       "    .dataframe tbody tr th:only-of-type {\n",
       "        vertical-align: middle;\n",
       "    }\n",
       "\n",
       "    .dataframe tbody tr th {\n",
       "        vertical-align: top;\n",
       "    }\n",
       "\n",
       "    .dataframe thead th {\n",
       "        text-align: right;\n",
       "    }\n",
       "</style>\n",
       "<table border=\"1\" class=\"dataframe\">\n",
       "  <thead>\n",
       "    <tr style=\"text-align: right;\">\n",
       "      <th></th>\n",
       "      <th>team1</th>\n",
       "      <th>team2</th>\n",
       "    </tr>\n",
       "  </thead>\n",
       "  <tbody>\n",
       "    <tr>\n",
       "      <th>1552</th>\n",
       "      <td>0</td>\n",
       "      <td>2</td>\n",
       "    </tr>\n",
       "    <tr>\n",
       "      <th>1762</th>\n",
       "      <td>1</td>\n",
       "      <td>5</td>\n",
       "    </tr>\n",
       "    <tr>\n",
       "      <th>141</th>\n",
       "      <td>15</td>\n",
       "      <td>17</td>\n",
       "    </tr>\n",
       "    <tr>\n",
       "      <th>1948</th>\n",
       "      <td>10</td>\n",
       "      <td>15</td>\n",
       "    </tr>\n",
       "    <tr>\n",
       "      <th>821</th>\n",
       "      <td>2</td>\n",
       "      <td>6</td>\n",
       "    </tr>\n",
       "    <tr>\n",
       "      <th>...</th>\n",
       "      <td>...</td>\n",
       "      <td>...</td>\n",
       "    </tr>\n",
       "    <tr>\n",
       "      <th>1296</th>\n",
       "      <td>6</td>\n",
       "      <td>10</td>\n",
       "    </tr>\n",
       "    <tr>\n",
       "      <th>1829</th>\n",
       "      <td>2</td>\n",
       "      <td>1</td>\n",
       "    </tr>\n",
       "    <tr>\n",
       "      <th>361</th>\n",
       "      <td>14</td>\n",
       "      <td>11</td>\n",
       "    </tr>\n",
       "    <tr>\n",
       "      <th>1945</th>\n",
       "      <td>6</td>\n",
       "      <td>4</td>\n",
       "    </tr>\n",
       "    <tr>\n",
       "      <th>2347</th>\n",
       "      <td>1</td>\n",
       "      <td>7</td>\n",
       "    </tr>\n",
       "  </tbody>\n",
       "</table>\n",
       "<p>238 rows × 2 columns</p>\n",
       "</div>"
      ],
      "text/plain": [
       "      team1  team2\n",
       "1552      0      2\n",
       "1762      1      5\n",
       "141      15     17\n",
       "1948     10     15\n",
       "821       2      6\n",
       "...     ...    ...\n",
       "1296      6     10\n",
       "1829      2      1\n",
       "361      14     11\n",
       "1945      6      4\n",
       "2347      1      7\n",
       "\n",
       "[238 rows x 2 columns]"
      ]
     },
     "execution_count": 89,
     "metadata": {},
     "output_type": "execute_result"
    }
   ],
   "source": []
  },
  {
   "cell_type": "code",
   "execution_count": 94,
   "metadata": {},
   "outputs": [
    {
     "name": "stderr",
     "output_type": "stream",
     "text": [
      "c:\\Users\\Talha Fareedi\\AppData\\Local\\Programs\\Python\\Python310\\lib\\site-packages\\sklearn\\linear_model\\_logistic.py:460: ConvergenceWarning: lbfgs failed to converge (status=1):\n",
      "STOP: TOTAL NO. of ITERATIONS REACHED LIMIT.\n",
      "\n",
      "Increase the number of iterations (max_iter) or scale the data as shown in:\n",
      "    https://scikit-learn.org/stable/modules/preprocessing.html\n",
      "Please also refer to the documentation for alternative solver options:\n",
      "    https://scikit-learn.org/stable/modules/linear_model.html#logistic-regression\n",
      "  n_iter_i = _check_optimize_result(\n"
     ]
    },
    {
     "data": {
      "text/html": [
       "<style>#sk-container-id-3 {color: black;}#sk-container-id-3 pre{padding: 0;}#sk-container-id-3 div.sk-toggleable {background-color: white;}#sk-container-id-3 label.sk-toggleable__label {cursor: pointer;display: block;width: 100%;margin-bottom: 0;padding: 0.3em;box-sizing: border-box;text-align: center;}#sk-container-id-3 label.sk-toggleable__label-arrow:before {content: \"▸\";float: left;margin-right: 0.25em;color: #696969;}#sk-container-id-3 label.sk-toggleable__label-arrow:hover:before {color: black;}#sk-container-id-3 div.sk-estimator:hover label.sk-toggleable__label-arrow:before {color: black;}#sk-container-id-3 div.sk-toggleable__content {max-height: 0;max-width: 0;overflow: hidden;text-align: left;background-color: #f0f8ff;}#sk-container-id-3 div.sk-toggleable__content pre {margin: 0.2em;color: black;border-radius: 0.25em;background-color: #f0f8ff;}#sk-container-id-3 input.sk-toggleable__control:checked~div.sk-toggleable__content {max-height: 200px;max-width: 100%;overflow: auto;}#sk-container-id-3 input.sk-toggleable__control:checked~label.sk-toggleable__label-arrow:before {content: \"▾\";}#sk-container-id-3 div.sk-estimator input.sk-toggleable__control:checked~label.sk-toggleable__label {background-color: #d4ebff;}#sk-container-id-3 div.sk-label input.sk-toggleable__control:checked~label.sk-toggleable__label {background-color: #d4ebff;}#sk-container-id-3 input.sk-hidden--visually {border: 0;clip: rect(1px 1px 1px 1px);clip: rect(1px, 1px, 1px, 1px);height: 1px;margin: -1px;overflow: hidden;padding: 0;position: absolute;width: 1px;}#sk-container-id-3 div.sk-estimator {font-family: monospace;background-color: #f0f8ff;border: 1px dotted black;border-radius: 0.25em;box-sizing: border-box;margin-bottom: 0.5em;}#sk-container-id-3 div.sk-estimator:hover {background-color: #d4ebff;}#sk-container-id-3 div.sk-parallel-item::after {content: \"\";width: 100%;border-bottom: 1px solid gray;flex-grow: 1;}#sk-container-id-3 div.sk-label:hover label.sk-toggleable__label {background-color: #d4ebff;}#sk-container-id-3 div.sk-serial::before {content: \"\";position: absolute;border-left: 1px solid gray;box-sizing: border-box;top: 0;bottom: 0;left: 50%;z-index: 0;}#sk-container-id-3 div.sk-serial {display: flex;flex-direction: column;align-items: center;background-color: white;padding-right: 0.2em;padding-left: 0.2em;position: relative;}#sk-container-id-3 div.sk-item {position: relative;z-index: 1;}#sk-container-id-3 div.sk-parallel {display: flex;align-items: stretch;justify-content: center;background-color: white;position: relative;}#sk-container-id-3 div.sk-item::before, #sk-container-id-3 div.sk-parallel-item::before {content: \"\";position: absolute;border-left: 1px solid gray;box-sizing: border-box;top: 0;bottom: 0;left: 50%;z-index: -1;}#sk-container-id-3 div.sk-parallel-item {display: flex;flex-direction: column;z-index: 1;position: relative;background-color: white;}#sk-container-id-3 div.sk-parallel-item:first-child::after {align-self: flex-end;width: 50%;}#sk-container-id-3 div.sk-parallel-item:last-child::after {align-self: flex-start;width: 50%;}#sk-container-id-3 div.sk-parallel-item:only-child::after {width: 0;}#sk-container-id-3 div.sk-dashed-wrapped {border: 1px dashed gray;margin: 0 0.4em 0.5em 0.4em;box-sizing: border-box;padding-bottom: 0.4em;background-color: white;}#sk-container-id-3 div.sk-label label {font-family: monospace;font-weight: bold;display: inline-block;line-height: 1.2em;}#sk-container-id-3 div.sk-label-container {text-align: center;}#sk-container-id-3 div.sk-container {/* jupyter's `normalize.less` sets `[hidden] { display: none; }` but bootstrap.min.css set `[hidden] { display: none !important; }` so we also need the `!important` here to be able to override the default hidden behavior on the sphinx rendered scikit-learn.org. See: https://github.com/scikit-learn/scikit-learn/issues/21755 */display: inline-block !important;position: relative;}#sk-container-id-3 div.sk-text-repr-fallback {display: none;}</style><div id=\"sk-container-id-3\" class=\"sk-top-container\"><div class=\"sk-text-repr-fallback\"><pre>LogisticRegression()</pre><b>In a Jupyter environment, please rerun this cell to show the HTML representation or trust the notebook. <br />On GitHub, the HTML representation is unable to render, please try loading this page with nbviewer.org.</b></div><div class=\"sk-container\" hidden><div class=\"sk-item\"><div class=\"sk-estimator sk-toggleable\"><input class=\"sk-toggleable__control sk-hidden--visually\" id=\"sk-estimator-id-3\" type=\"checkbox\" checked><label for=\"sk-estimator-id-3\" class=\"sk-toggleable__label sk-toggleable__label-arrow\">LogisticRegression</label><div class=\"sk-toggleable__content\"><pre>LogisticRegression()</pre></div></div></div></div></div>"
      ],
      "text/plain": [
       "LogisticRegression()"
      ]
     },
     "execution_count": 94,
     "metadata": {},
     "output_type": "execute_result"
    }
   ],
   "source": [
    "model.fit(x_train,y_train)"
   ]
  },
  {
   "cell_type": "code",
   "execution_count": 95,
   "metadata": {},
   "outputs": [],
   "source": [
    "y_pre=model.predict(x_test)"
   ]
  },
  {
   "cell_type": "code",
   "execution_count": 97,
   "metadata": {},
   "outputs": [
    {
     "data": {
      "text/plain": [
       "0.15126050420168066"
      ]
     },
     "execution_count": 97,
     "metadata": {},
     "output_type": "execute_result"
    }
   ],
   "source": [
    "from sklearn.metrics import confusion_matrix , accuracy_score\n",
    "a = accuracy_score(y_pre,y_test)\n",
    "a"
   ]
  },
  {
   "cell_type": "code",
   "execution_count": 98,
   "metadata": {},
   "outputs": [],
   "source": [
    "India = 0\n",
    "England = 1\n",
    "New_Zealand = 2\n",
    "Australia = 3\n",
    "Sri_Lanka = 4\n",
    "South_Africa = 5\n",
    "Bangladesh = 6\n",
    "Pakistan = 7\n",
    "Nepal = 8\n",
    "Afghanistan = 9\n",
    "West_Indies = 10\n",
    "Scotland = 11\n",
    "United_Arab_Emirates = 12\n",
    "Oman = 13\n",
    "Netherlands = 14\n",
    "Zimbabwe = 15\n",
    "United_States_of_America = 16\n",
    "Ireland = 17\n",
    "Canada = 18\n",
    "Namibia = 19\n",
    "Jersey = 20\n",
    "Papua_New_Guinea = 21\n",
    "Hong_Kong = 22\n",
    "Kenya = 23\n",
    "Africa_XI = 24\n",
    "Bermuda = 25\n",
    "Asia_XI = 26\n",
    "ICC_World_XI = 27\n",
    "NAN = 29"
   ]
  },
  {
   "cell_type": "code",
   "execution_count": 109,
   "metadata": {},
   "outputs": [
    {
     "name": "stderr",
     "output_type": "stream",
     "text": [
      "c:\\Users\\Talha Fareedi\\AppData\\Local\\Programs\\Python\\Python310\\lib\\site-packages\\sklearn\\base.py:465: UserWarning: X does not have valid feature names, but LogisticRegression was fitted with feature names\n",
      "  warnings.warn(\n"
     ]
    }
   ],
   "source": [
    "\n",
    "\n",
    "y_prediction = model.predict([[India,Australia]])"
   ]
  },
  {
   "cell_type": "code",
   "execution_count": 110,
   "metadata": {},
   "outputs": [
    {
     "name": "stdout",
     "output_type": "stream",
     "text": [
      "The predicted team is India\n"
     ]
    }
   ],
   "source": [
    "\n",
    "\n",
    "\n",
    "\n",
    "if y_prediction == 0:\n",
    "    print(\"The predicted team is India\")\n",
    "elif y_prediction == 1:\n",
    "    print(\"The predicted team is England\")\n",
    "elif y_prediction == 2:\n",
    "    print(\"The predicted team is New Zealand\")\n",
    "elif y_prediction == 3:\n",
    "    print(\"The predicted team is Australia\")\n",
    "elif y_prediction == 4:\n",
    "    print(\"The predicted team is Sri Lanka\")\n",
    "elif y_prediction == 5:\n",
    "    print(\"The predicted team is South Africa\")\n",
    "elif y_prediction == 6:\n",
    "    print(\"The predicted team is Bangladesh\")\n",
    "elif y_prediction == 7:\n",
    "    print(\"The predicted team is Pakistan\")\n",
    "elif y_prediction == 8:\n",
    "    print(\"The predicted team is Nepal\")\n",
    "elif y_prediction == 9:\n",
    "    print(\"The predicted team is Afghanistan\")\n",
    "elif y_prediction == 10:\n",
    "    print(\"The predicted team is West Indies\")\n",
    "elif y_prediction == 11:\n",
    "    print(\"The predicted team is Scotland\")\n",
    "elif y_prediction == 12:\n",
    "    print(\"The predicted team is United Arab Emirates\")\n",
    "elif y_prediction == 13:\n",
    "    print(\"The predicted team is Oman\")\n",
    "elif y_prediction == 14:\n",
    "    print(\"The predicted team is Netherlands\")\n",
    "elif y_prediction == 15:\n",
    "    print(\"The predicted team is Zimbabwe\")\n",
    "elif y_prediction == 16:\n",
    "    print(\"The predicted team is United States of America\")\n",
    "elif y_prediction == 17:\n",
    "    print(\"The predicted team is Ireland\")\n",
    "elif y_prediction == 18:\n",
    "    print(\"The predicted team is Canada\")\n",
    "elif y_prediction == 19:\n",
    "    print(\"The predicted team is Namibia\")\n",
    "elif y_prediction == 20:\n",
    "    print(\"The predicted team is Jersey\")\n",
    "elif y_prediction == 21:\n",
    "    print(\"The predicted team is Papua New Guinea\")\n",
    "elif y_prediction == 22:\n",
    "    print(\"The predicted team is Hong Kong\")\n",
    "elif y_prediction == 23:\n",
    "    print(\"The predicted team is Kenya\")\n",
    "elif y_prediction == 24:\n",
    "    print(\"The predicted team is Africa XI\")\n",
    "elif y_prediction == 25:\n",
    "    print(\"The predicted team is Bermuda\")\n",
    "elif y_prediction == 26:\n",
    "    print(\"The predicted team is Asia XI\")\n",
    "elif y_prediction == 27:\n",
    "    print(\"The predicted team is ICC World XI\")\n",
    "elif y_prediction == 29:\n",
    "    print(\"The predicted team is NAN\")\n",
    "else:\n",
    "    print(\"Unknown team or invalid prediction\")\n"
   ]
  }
 ],
 "metadata": {
  "kernelspec": {
   "display_name": "Python 3",
   "language": "python",
   "name": "python3"
  },
  "language_info": {
   "codemirror_mode": {
    "name": "ipython",
    "version": 3
   },
   "file_extension": ".py",
   "mimetype": "text/x-python",
   "name": "python",
   "nbconvert_exporter": "python",
   "pygments_lexer": "ipython3",
   "version": "3.10.0"
  }
 },
 "nbformat": 4,
 "nbformat_minor": 2
}
